{
 "cells": [
  {
   "cell_type": "markdown",
   "metadata": {},
   "source": [
    "## Quickstart\n",
    "This quickstart document will demonstrate the basic usage of tagreader from importing the package to making a plot.\n",
    "\n",
    "Start by importing the package:"
   ]
  },
  {
   "cell_type": "code",
   "execution_count": 1,
   "metadata": {},
   "outputs": [],
   "source": [
    "import tagreader"
   ]
  },
  {
   "cell_type": "markdown",
   "metadata": {},
   "source": [
    "If we don't know the name of the server, we can check which PI and IP.21 servers we have access to:"
   ]
  },
  {
   "cell_type": "code",
   "execution_count": 2,
   "metadata": {},
   "outputs": [
    {
     "name": "stdout",
     "output_type": "stream",
     "text": [
      "['ims-pors-01', 'JSV', 'ONO-IMS', 'PIMAM', 'PINO', 'SLP', 'st-w1026', 'st-w1027', 'st-w1028']\n"
     ]
    }
   ],
   "source": [
    "print(tagreader.list_pi_servers())"
   ]
  },
  {
   "cell_type": "markdown",
   "metadata": {},
   "source": [
    "Similarly we could have typed `tagreader.list_aspen_servers()` to get a list of available Aspen InfoPlus.21 servers.\n",
    "\n",
    "Let's define a connection to PINO. We need to specify that PINO is a PI server. Available types are `pi`, `ip21` (or `aspen`), all case-insensitive."
   ]
  },
  {
   "cell_type": "code",
   "execution_count": 3,
   "metadata": {},
   "outputs": [],
   "source": [
    "c = tagreader.IMSClient('PINO', 'pi')"
   ]
  },
  {
   "cell_type": "markdown",
   "metadata": {},
   "source": [
    "By default a cache-file using the HDF5 file format will be created to store previously read data values. The cache can speed up subsequent reads by a decade or two, and is therefore highly recommended. If, for any reason, you want to disable the cache, set it to `None` before making the connection:"
   ]
  },
  {
   "cell_type": "code",
   "execution_count": 4,
   "metadata": {},
   "outputs": [],
   "source": [
    "c.cache = None"
   ]
  },
  {
   "cell_type": "markdown",
   "metadata": {},
   "source": [
    "We can now establish a connection to the server:"
   ]
  },
  {
   "cell_type": "code",
   "execution_count": 5,
   "metadata": {},
   "outputs": [],
   "source": [
    "c.connect()"
   ]
  },
  {
   "cell_type": "markdown",
   "metadata": {},
   "source": [
    "After connecting, we can search for a tag. `%` and `*` are valid and equivalent wildcards:"
   ]
  },
  {
   "cell_type": "code",
   "execution_count": 6,
   "metadata": {},
   "outputs": [
    {
     "name": "stdout",
     "output_type": "stream",
     "text": [
      "[('BA:ACTIVE.1', 'Batch Active Reactor 1'), ('BA:CONC.1', 'Concentration Reactor 1'), ('BA:LEVEL.1', 'Level Reactor 1'), ('BA:PHASE.1', 'Phase Reactor 1'), ('BA:TEMP.1', 'Temperature Reactor 1')]\n"
     ]
    }
   ],
   "source": [
    "print(c.search_tag('ba:*'))"
   ]
  },
  {
   "cell_type": "markdown",
   "metadata": {},
   "source": [
    "We can also search for a description:"
   ]
  },
  {
   "cell_type": "code",
   "execution_count": 7,
   "metadata": {},
   "outputs": [
    {
     "name": "stdout",
     "output_type": "stream",
     "text": [
      "[('CDEP158', 'Light Naphtha End Point'), ('CDM158', 'Light Naphtha End Point Control'), ('CDT158', 'Atmospheric Tower OH Vapor')]\n"
     ]
    }
   ],
   "source": [
    "print(c.search_tag('cd*158'))"
   ]
  },
  {
   "cell_type": "markdown",
   "metadata": {},
   "source": [
    "Or both tag and description, which returns those that fulfill both requirements:"
   ]
  },
  {
   "cell_type": "code",
   "execution_count": 8,
   "metadata": {},
   "outputs": [
    {
     "name": "stdout",
     "output_type": "stream",
     "text": [
      "[('CDEP158', 'Light Naphtha End Point'), ('CDM158', 'Light Naphtha End Point Control')]\n"
     ]
    }
   ],
   "source": [
    "print(c.search_tag(tag='cd*158', desc='*Naphtha*'))"
   ]
  },
  {
   "cell_type": "markdown",
   "metadata": {},
   "source": [
    "Now that we know the tag name, we can read values for a duration of 3.5 hours starting January 5th at 8 in the morning with 3-minute (180-seconds) intervals. The default query method is interpolated. Timestamps are parsed using [pandas.Timestamp](https://pandas.pydata.org/pandas-docs/stable/reference/api/pandas.Timestamp.html), and can therefore be provided in many different string formats."
   ]
  },
  {
   "cell_type": "code",
   "execution_count": 9,
   "metadata": {},
   "outputs": [],
   "source": [
    "df = c.read_tags(['BA:ACTIVE.1', 'BA:LEVEL.1', 'BA:CONC.1'], '05-Jan-2020 08:00:00', '05/01/20 11:30am', 180)"
   ]
  },
  {
   "cell_type": "markdown",
   "metadata": {},
   "source": [
    "*Note*: Tags with maps (relevant for some InfoPlus.21 servers) can be specified on the form `'tag;map'`, e.g. `'17B-HIC192;CS A_AUTO'`.\n",
    "\n",
    "The result from the last call is a Pandas dataframe, and can be manipulated as such:"
   ]
  },
  {
   "cell_type": "code",
   "execution_count": 10,
   "metadata": {},
   "outputs": [
    {
     "data": {
      "text/html": [
       "<div>\n",
       "<style scoped>\n",
       "    .dataframe tbody tr th:only-of-type {\n",
       "        vertical-align: middle;\n",
       "    }\n",
       "\n",
       "    .dataframe tbody tr th {\n",
       "        vertical-align: top;\n",
       "    }\n",
       "\n",
       "    .dataframe thead th {\n",
       "        text-align: right;\n",
       "    }\n",
       "</style>\n",
       "<table border=\"1\" class=\"dataframe\">\n",
       "  <thead>\n",
       "    <tr style=\"text-align: right;\">\n",
       "      <th></th>\n",
       "      <th>BA:ACTIVE.1</th>\n",
       "      <th>BA:LEVEL.1</th>\n",
       "      <th>BA:CONC.1</th>\n",
       "    </tr>\n",
       "    <tr>\n",
       "      <th>time</th>\n",
       "      <th></th>\n",
       "      <th></th>\n",
       "      <th></th>\n",
       "    </tr>\n",
       "  </thead>\n",
       "  <tbody>\n",
       "    <tr>\n",
       "      <th>2020-01-05 11:18:00+01:00</th>\n",
       "      <td>1.0</td>\n",
       "      <td>42.256237</td>\n",
       "      <td>30.078449</td>\n",
       "    </tr>\n",
       "    <tr>\n",
       "      <th>2020-01-05 11:21:00+01:00</th>\n",
       "      <td>1.0</td>\n",
       "      <td>41.894955</td>\n",
       "      <td>31.007982</td>\n",
       "    </tr>\n",
       "    <tr>\n",
       "      <th>2020-01-05 11:24:00+01:00</th>\n",
       "      <td>1.0</td>\n",
       "      <td>41.533672</td>\n",
       "      <td>31.937513</td>\n",
       "    </tr>\n",
       "    <tr>\n",
       "      <th>2020-01-05 11:27:00+01:00</th>\n",
       "      <td>1.0</td>\n",
       "      <td>41.172394</td>\n",
       "      <td>36.159206</td>\n",
       "    </tr>\n",
       "    <tr>\n",
       "      <th>2020-01-05 11:30:00+01:00</th>\n",
       "      <td>1.0</td>\n",
       "      <td>39.583984</td>\n",
       "      <td>40.987350</td>\n",
       "    </tr>\n",
       "  </tbody>\n",
       "</table>\n",
       "</div>"
      ],
      "text/plain": [
       "                           BA:ACTIVE.1  BA:LEVEL.1  BA:CONC.1\n",
       "time                                                         \n",
       "2020-01-05 11:18:00+01:00          1.0   42.256237  30.078449\n",
       "2020-01-05 11:21:00+01:00          1.0   41.894955  31.007982\n",
       "2020-01-05 11:24:00+01:00          1.0   41.533672  31.937513\n",
       "2020-01-05 11:27:00+01:00          1.0   41.172394  36.159206\n",
       "2020-01-05 11:30:00+01:00          1.0   39.583984  40.987350"
      ]
     },
     "execution_count": 10,
     "metadata": {},
     "output_type": "execute_result"
    }
   ],
   "source": [
    "df.tail()"
   ]
  },
  {
   "cell_type": "code",
   "execution_count": 11,
   "metadata": {},
   "outputs": [
    {
     "data": {
      "text/plain": [
       "71"
      ]
     },
     "execution_count": 11,
     "metadata": {},
     "output_type": "execute_result"
    }
   ],
   "source": [
    "df['BA:LEVEL.1'].size"
   ]
  },
  {
   "cell_type": "code",
   "execution_count": 12,
   "metadata": {},
   "outputs": [
    {
     "data": {
      "text/plain": [
       "31.93751335144043"
      ]
     },
     "execution_count": 12,
     "metadata": {},
     "output_type": "execute_result"
    }
   ],
   "source": [
    "df['BA:CONC.1'].loc['2020-01-05 11:24:00']"
   ]
  },
  {
   "cell_type": "code",
   "execution_count": 13,
   "metadata": {},
   "outputs": [
    {
     "data": {
      "text/plain": [
       "42.2562370300293"
      ]
     },
     "execution_count": 13,
     "metadata": {},
     "output_type": "execute_result"
    }
   ],
   "source": [
    "max(df['BA:LEVEL.1'])"
   ]
  },
  {
   "cell_type": "markdown",
   "metadata": {},
   "source": [
    "etc...\n",
    "\n",
    "Sometimes it can be handy to obtain the unit and description for the three tags:"
   ]
  },
  {
   "cell_type": "code",
   "execution_count": 14,
   "metadata": {},
   "outputs": [
    {
     "name": "stdout",
     "output_type": "stream",
     "text": [
      "{'BA:ACTIVE.1': 'STATE', 'BA:LEVEL.1': '', 'BA:CONC.1': 'DEG. C'}\n",
      "{'BA:ACTIVE.1': 'Batch Active Reactor 1', 'BA:LEVEL.1': 'Level Reactor 1', 'BA:CONC.1': 'Concentration Reactor 1'}\n"
     ]
    }
   ],
   "source": [
    "tags = ['BA:ACTIVE.1', 'BA:LEVEL.1', 'BA:CONC.1']\n",
    "units = c.get_units(tags)\n",
    "desc = c.get_descriptions(tags)\n",
    "print(units)\n",
    "print(desc)"
   ]
  },
  {
   "cell_type": "code",
   "execution_count": 15,
   "metadata": {
    "scrolled": true
   },
   "outputs": [
    {
     "data": {
      "text/plain": [
       "Text(0, 0.5, 'DEG. C')"
      ]
     },
     "execution_count": 15,
     "metadata": {},
     "output_type": "execute_result"
    },
    {
     "data": {
      "image/png": "[encoded data removed]",
      "text/plain": [
       "<Figure size 432x288 with 1 Axes>"
      ]
     },
     "metadata": {
      "needs_background": "light"
     },
     "output_type": "display_data"
    }
   ],
   "source": [
    "import matplotlib.pyplot as plt\n",
    "tag = 'BA:CONC.1'\n",
    "df[tag].plot(grid=True, title=desc[tag]).set_ylabel(units[tag])"
   ]
  }
 ],
 "metadata": {
  "kernelspec": {
   "display_name": "Python 3",
   "language": "python",
   "name": "python3"
  },
  "language_info": {
   "codemirror_mode": {
    "name": "ipython",
    "version": 3
   },
   "file_extension": ".py",
   "mimetype": "text/x-python",
   "name": "python",
   "nbconvert_exporter": "python",
   "pygments_lexer": "ipython3",
   "version": "3.6.7"
  }
 },
 "nbformat": 4,
 "nbformat_minor": 4
}
